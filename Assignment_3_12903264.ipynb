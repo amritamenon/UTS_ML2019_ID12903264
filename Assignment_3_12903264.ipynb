{
  "nbformat": 4,
  "nbformat_minor": 0,
  "metadata": {
    "colab": {
      "name": "Copy of Assignment 3 - 12903264",
      "provenance": [],
      "include_colab_link": true
    },
    "kernelspec": {
      "name": "python3",
      "display_name": "Python 3"
    }
  },
  "cells": [
    {
      "cell_type": "markdown",
      "metadata": {
        "id": "view-in-github",
        "colab_type": "text"
      },
      "source": [
        "<a href=\"https://colab.research.google.com/github/amritamenon/UTS_ML2019_ID12903264/blob/master/Assignment_3_12903264.ipynb\" target=\"_parent\"><img src=\"https://colab.research.google.com/assets/colab-badge.svg\" alt=\"Open In Colab\"/></a>"
      ]
    },
    {
      "cell_type": "code",
      "metadata": {
        "id": "mPQumiYSjR9r",
        "colab_type": "code",
        "colab": {}
      },
      "source": [
        "Social Media"
      ],
      "execution_count": 0,
      "outputs": []
    },
    {
      "cell_type": "markdown",
      "metadata": {
        "id": "yxIBDTWujbkt",
        "colab_type": "text"
      },
      "source": [
        "**1.\tGeneral Approach**\n",
        "\n",
        "Track FB page impressions, Twitter tweets, Instagram follower growth, comments on Pinterest\n",
        "\n",
        "\n"
      ]
    },
    {
      "cell_type": "markdown",
      "metadata": {
        "id": "JUQ52c16kNIe",
        "colab_type": "text"
      },
      "source": [
        "**2.\tMining Problem statements**\n",
        "\n",
        "\n",
        "Use socially data from non-professional sources like FB posts, tweets from Twitter, Instagram posts, Pinterest likes, IM tools like Hangouts and professional sources like LinkedIn, to draw profiles that allow us to determine the likelihood of certain poll outcomes. Polling can cover a wide variety of problems so we will narrow our scope to polls that could determine election voting intent and product buying intent. \n"
      ]
    },
    {
      "cell_type": "markdown",
      "metadata": {
        "id": "_63wMOowkQib",
        "colab_type": "text"
      },
      "source": [
        "**3.\tOverall Approach**\n",
        "\n",
        "\n",
        "Data Classification algorithms are a good approach to determine intention to poll a certain way. With the correct variables, social data of an individual can be mined to determine which way the individual is likely to lean, in any given polling situation. \n",
        "\n",
        "*3.1\tFeatures to use for Polling*\n",
        "\n",
        "Generally, the features that are critical to understand polling behavior, depend on the poll being attempted. For the kind of polls focused on here, the general variables that I would like to mine are\n",
        "•\tPoll Intent – intent to participate in a specific poll.\n",
        "•\tKnowledge – is there knowledge about the topic a specific poll will cover\n",
        "•\tInterest – is there positive/negative interest in the topic a specific poll will cover \n",
        "•\tAffiliations – is there affiliation to entities/individuals associated with a poll\n",
        "•\tAge & Education – general indicators of how an individual will poll\n",
        "•\tJob & Home Ownership – general indicator of affluence of individuals to specifically mine intent to vote in an election, useful features are\n",
        "•\tVote Intent – combination of interest in public affairs, age and past voting disclosure\n",
        "•\tKeyword clouds – to see if strongly indicative keywords are present in contributions\n",
        "\n",
        "*3.2\tExtracting the features*\n",
        "\n",
        "To run useful classification models, the features that will define the poll need to be extracted from social media contributions of different individuals.\n",
        "\n",
        "*3.2.1\tKeyword Clouds*\n",
        "\n",
        "A Keyword Cloud is a visual representation of how often a word is present in data being mined. I will use pre-fabricated clouds, specific to my poll and generate importance measures for different keywords. This will be used to give weightage to the different keywords I mine from the social data that I work with. In case there are no pre-existing keyword clouds to work off, I will work with experts in the area to generate my own ‘word importance’ cloud. \n",
        "\n",
        "*3.2.2\tSentiment Analysis*\n",
        "\n",
        "Sentiment analysis refers to the general feel or impression received as a repercussion of consuming a piece of content. It doesn’t rely on the specific articulate emotions but rather relies on a simplified binary system of “positive” and “negative” responses. \n",
        "\n",
        "*3.2.3\tEmotion Analysis*\n",
        "\n",
        "Emotion analysis, as opposed to sentiment analysis revolves around a more complex and sophisticated system, relying on a deeper analysis o human emotions and sensitivities. Unlike sentiment analysis, emotional analysis is inclusive and considerate of different variations of human mental subjectivities.\n",
        "\n",
        "*3.3\tGenerating the classification models*\n",
        "\n",
        "Data Mining using classification involves generating a classification model based on known data features and then providing a fresh set of feature data, to see how the data gets classified. The algorithms I will use are – LIST A COUPLE. To avoid storing socially mined data for long periods (and possibly opening avenue for data misuse), I will classify my mined data in near real-time and keep generating non-personal inferences which I can store for longer periods.\n"
      ]
    },
    {
      "cell_type": "markdown",
      "metadata": {
        "id": "qpUfBFq3k1xG",
        "colab_type": "text"
      },
      "source": [
        "**4.\tChallenges in this approach**\n",
        "\n",
        "\n",
        "Mining any information from social data presents some unique challenges compared to other data mining problems and sources\n",
        "1.\tWith Social Media, privacy can be easily compromised if data is not secured. For any manner of analysis to be successful, intelligence must be derived by knowing exactly what a customer was trying to achieve. If someone is praising or complaining, the truth behind the comment is not known unless data mining processes know exactly what the customer was doing. This means knowing what the customer did, what data they provided, what action/output they expected, and all this could constitute violation of privacy. Models evolve over time and Patterns take time to emerge over time and private data of customers is sometimes stored for long periods of time. Finally, as was postulated for a national election, few years ago, social media can be manipulated to place information that could influence a poll in a certain way\n",
        "\n",
        "2.\tBias created by vocal customers. Generally vocal customers alone tend to share information on social media. Indexing responses to such customers could lead to unnecessary focus on a small segment of users. In addition, certain age groups tend to be more expressive on social media and are often not the most important customers (often younger people share feedback faster but are often not the decision maker in buy decisions). Finally, people generally tend to share negative opinions more easily than positive opinions, so it is important to use the feedback carefully.\n",
        "\n",
        "3.\tHow to measure performance of the analysis. Understanding social media is still a fledgling science. While models generally predict well, interpretation for specific situations need special skills. Understanding how to use this for a political situation, is different from how to do product placement to increase buy decisions, which is different from how to tempt people to donate. Each situation plays out in social media but the way to understand the true opinion and how to sway it ethically is still a challenge \n"
      ]
    },
    {
      "cell_type": "markdown",
      "metadata": {
        "id": "O_J03bm8lE9V",
        "colab_type": "text"
      },
      "source": [
        "**5.\tPerformance of polling**\n",
        "\n",
        "The usefulness of any polling related mining can be determined by comparing poll results against the actual outcomes. For ex. checking the outcome of exit polls before an election, against the results of the election. Measures to track for a poll could include\n",
        "•\tPromotions & Messages: total engagements across polls, engagement per poll\n",
        "•\tSentiment observations: positive, negative or neutral responses\n",
        "•\tVoting outcomes: check to see how closely voting predictions match real outcomes\n",
        "•\tBuying outcomes: check to see how closely buy/won’t buy predictions match the real outcome\n",
        "•\tInfluencer management: to see how well influencers to a cause being polled were effective in pushing the message\n",
        "•\tHashtag performance: such as counts of tags, trends in tags and their connection to the polls\n"
      ]
    }
  ]
}